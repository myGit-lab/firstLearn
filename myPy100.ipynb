{
 "cells": [
  {
   "cell_type": "markdown",
   "id": "2e48da11-8b95-405d-b48c-c6f61287ffa6",
   "metadata": {},
   "source": [
    "线性回归练习"
   ]
  },
  {
   "cell_type": "code",
   "execution_count": 13,
   "id": "72ac4618-34fe-46c0-9214-ceec93a6bd80",
   "metadata": {},
   "outputs": [
    {
     "data": {
      "text/html": [
       "<div>\n",
       "<style scoped>\n",
       "    .dataframe tbody tr th:only-of-type {\n",
       "        vertical-align: middle;\n",
       "    }\n",
       "\n",
       "    .dataframe tbody tr th {\n",
       "        vertical-align: top;\n",
       "    }\n",
       "\n",
       "    .dataframe thead th {\n",
       "        text-align: right;\n",
       "    }\n",
       "</style>\n",
       "<table border=\"1\" class=\"dataframe\">\n",
       "  <thead>\n",
       "    <tr style=\"text-align: right;\">\n",
       "      <th></th>\n",
       "      <th>year</th>\n",
       "      <th>salary</th>\n",
       "    </tr>\n",
       "  </thead>\n",
       "  <tbody>\n",
       "    <tr>\n",
       "      <th>0</th>\n",
       "      <td>1</td>\n",
       "      <td>2000</td>\n",
       "    </tr>\n",
       "    <tr>\n",
       "      <th>1</th>\n",
       "      <td>2</td>\n",
       "      <td>2500</td>\n",
       "    </tr>\n",
       "    <tr>\n",
       "      <th>2</th>\n",
       "      <td>3</td>\n",
       "      <td>3000</td>\n",
       "    </tr>\n",
       "    <tr>\n",
       "      <th>3</th>\n",
       "      <td>4</td>\n",
       "      <td>3200</td>\n",
       "    </tr>\n",
       "    <tr>\n",
       "      <th>4</th>\n",
       "      <td>5</td>\n",
       "      <td>3600</td>\n",
       "    </tr>\n",
       "    <tr>\n",
       "      <th>5</th>\n",
       "      <td>6</td>\n",
       "      <td>4800</td>\n",
       "    </tr>\n",
       "    <tr>\n",
       "      <th>6</th>\n",
       "      <td>7</td>\n",
       "      <td>5000</td>\n",
       "    </tr>\n",
       "    <tr>\n",
       "      <th>7</th>\n",
       "      <td>8</td>\n",
       "      <td>5200</td>\n",
       "    </tr>\n",
       "    <tr>\n",
       "      <th>8</th>\n",
       "      <td>9</td>\n",
       "      <td>6000</td>\n",
       "    </tr>\n",
       "    <tr>\n",
       "      <th>9</th>\n",
       "      <td>10</td>\n",
       "      <td>7000</td>\n",
       "    </tr>\n",
       "  </tbody>\n",
       "</table>\n",
       "</div>"
      ],
      "text/plain": [
       "   year  salary\n",
       "0     1    2000\n",
       "1     2    2500\n",
       "2     3    3000\n",
       "3     4    3200\n",
       "4     5    3600\n",
       "5     6    4800\n",
       "6     7    5000\n",
       "7     8    5200\n",
       "8     9    6000\n",
       "9    10    7000"
      ]
     },
     "execution_count": 13,
     "metadata": {},
     "output_type": "execute_result"
    }
   ],
   "source": [
    "\n",
    "\n",
    "from  sklearn.linear_model import LinearRegression\n",
    "import pandas as pd\n",
    "import numpy   as np\n",
    "data={\n",
    "    \"year\":[1,2,3,4,5,6,7,8,9,10],\n",
    "    \"salary\":[2000,2500,3000,3200,3600,4800,5000,5200,6000,7000]\n",
    "}\n",
    "\n",
    "df=pd.DataFrame(data)\n",
    "df\n",
    "\n",
    "\n"
   ]
  },
  {
   "cell_type": "code",
   "execution_count": 15,
   "id": "d259bdf7-7a00-43dc-a810-3d3f3eaec970",
   "metadata": {},
   "outputs": [
    {
     "data": {
      "text/plain": [
       "array([1326.66666667])"
      ]
     },
     "execution_count": 15,
     "metadata": {},
     "output_type": "execute_result"
    }
   ],
   "source": [
    "model=LinearRegression()\n",
    "model.fit(\n",
    "    df[[\"year\"]],\n",
    "    df[[\"salary\"]]\n",
    ")\n",
    "LinearRegression()\n",
    "model.intercept_\n",
    "\n",
    "\n"
   ]
  },
  {
   "cell_type": "code",
   "execution_count": 6,
   "id": "4e777b14-dbfa-472a-8c97-01f17cddc216",
   "metadata": {},
   "outputs": [
    {
     "data": {
      "text/plain": [
       "array([[527.87878788]])"
      ]
     },
     "execution_count": 6,
     "metadata": {},
     "output_type": "execute_result"
    }
   ],
   "source": [
    "model.coef_"
   ]
  },
  {
   "cell_type": "code",
   "execution_count": 10,
   "id": "0615e6cb-3353-44b3-a785-45b90cb34ab7",
   "metadata": {},
   "outputs": [
    {
     "data": {
      "text/plain": [
       "'y=1326.6666666666679+527.8787878787876x'"
      ]
     },
     "execution_count": 10,
     "metadata": {},
     "output_type": "execute_result"
    }
   ],
   "source": [
    "f\"y={model.intercept_[0]}+{model.coef_[0][0]}x\""
   ]
  },
  {
   "cell_type": "code",
   "execution_count": null,
   "id": "521df761-b347-452e-a00a-90240661b06e",
   "metadata": {},
   "outputs": [],
   "source": []
  }
 ],
 "metadata": {
  "kernelspec": {
   "display_name": "Python [conda env:base] *",
   "language": "python",
   "name": "conda-base-py"
  },
  "language_info": {
   "codemirror_mode": {
    "name": "ipython",
    "version": 3
   },
   "file_extension": ".py",
   "mimetype": "text/x-python",
   "name": "python",
   "nbconvert_exporter": "python",
   "pygments_lexer": "ipython3",
   "version": "3.12.7"
  }
 },
 "nbformat": 4,
 "nbformat_minor": 5
}
